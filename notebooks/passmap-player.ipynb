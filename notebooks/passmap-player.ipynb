{
 "cells": [
  {
   "cell_type": "code",
   "execution_count": 1,
   "id": "ff1cf630-7115-4f50-975f-21591362921d",
   "metadata": {},
   "outputs": [],
   "source": [
    "from statsbombpy import sb\n",
    "import pandas as pd\n",
    "from mplsoccer import Pitch"
   ]
  },
  {
   "cell_type": "code",
   "execution_count": 2,
   "id": "2bc946e6-e900-4805-b075-c9c2ba9b19d8",
   "metadata": {},
   "outputs": [],
   "source": [
    "competitions = sb.competitions()"
   ]
  },
  {
   "cell_type": "code",
   "execution_count": 28,
   "id": "393ec00a-8014-480b-b63c-f190379623ad",
   "metadata": {},
   "outputs": [
    {
     "data": {
      "text/html": [
       "<div>\n",
       "<style scoped>\n",
       "    .dataframe tbody tr th:only-of-type {\n",
       "        vertical-align: middle;\n",
       "    }\n",
       "\n",
       "    .dataframe tbody tr th {\n",
       "        vertical-align: top;\n",
       "    }\n",
       "\n",
       "    .dataframe thead th {\n",
       "        text-align: right;\n",
       "    }\n",
       "</style>\n",
       "<table border=\"1\" class=\"dataframe\">\n",
       "  <thead>\n",
       "    <tr style=\"text-align: right;\">\n",
       "      <th></th>\n",
       "      <th>match_id</th>\n",
       "      <th>match_date</th>\n",
       "      <th>kick_off</th>\n",
       "      <th>competition</th>\n",
       "      <th>season</th>\n",
       "      <th>home_team</th>\n",
       "      <th>away_team</th>\n",
       "      <th>home_score</th>\n",
       "      <th>away_score</th>\n",
       "      <th>match_status</th>\n",
       "      <th>...</th>\n",
       "      <th>last_updated_360</th>\n",
       "      <th>match_week</th>\n",
       "      <th>competition_stage</th>\n",
       "      <th>stadium</th>\n",
       "      <th>referee</th>\n",
       "      <th>home_managers</th>\n",
       "      <th>away_managers</th>\n",
       "      <th>data_version</th>\n",
       "      <th>shot_fidelity_version</th>\n",
       "      <th>xy_fidelity_version</th>\n",
       "    </tr>\n",
       "  </thead>\n",
       "  <tbody>\n",
       "    <tr>\n",
       "      <th>46</th>\n",
       "      <td>3930163</td>\n",
       "      <td>2024-06-16</td>\n",
       "      <td>22:00:00.000</td>\n",
       "      <td>Europe - UEFA Euro</td>\n",
       "      <td>2024</td>\n",
       "      <td>Serbia</td>\n",
       "      <td>England</td>\n",
       "      <td>0</td>\n",
       "      <td>1</td>\n",
       "      <td>available</td>\n",
       "      <td>...</td>\n",
       "      <td>2024-07-14T07:10:41.937955</td>\n",
       "      <td>1</td>\n",
       "      <td>Group Stage</td>\n",
       "      <td>VELTINS-Arena</td>\n",
       "      <td>Daniele Orsato</td>\n",
       "      <td>Dragan Stojković</td>\n",
       "      <td>Gareth Southgate</td>\n",
       "      <td>1.1.0</td>\n",
       "      <td>2</td>\n",
       "      <td>2</td>\n",
       "    </tr>\n",
       "    <tr>\n",
       "      <th>47</th>\n",
       "      <td>3930162</td>\n",
       "      <td>2024-06-16</td>\n",
       "      <td>19:00:00.000</td>\n",
       "      <td>Europe - UEFA Euro</td>\n",
       "      <td>2024</td>\n",
       "      <td>Slovenia</td>\n",
       "      <td>Denmark</td>\n",
       "      <td>1</td>\n",
       "      <td>1</td>\n",
       "      <td>available</td>\n",
       "      <td>...</td>\n",
       "      <td>2024-07-10T16:09:27.468163</td>\n",
       "      <td>1</td>\n",
       "      <td>Group Stage</td>\n",
       "      <td>MHPArena</td>\n",
       "      <td>Sandro Schärer</td>\n",
       "      <td>Matjaž Kek</td>\n",
       "      <td>Kasper Hjulmand</td>\n",
       "      <td>1.1.0</td>\n",
       "      <td>2</td>\n",
       "      <td>2</td>\n",
       "    </tr>\n",
       "    <tr>\n",
       "      <th>48</th>\n",
       "      <td>3930160</td>\n",
       "      <td>2024-06-15</td>\n",
       "      <td>19:00:00.000</td>\n",
       "      <td>Europe - UEFA Euro</td>\n",
       "      <td>2024</td>\n",
       "      <td>Spain</td>\n",
       "      <td>Croatia</td>\n",
       "      <td>3</td>\n",
       "      <td>0</td>\n",
       "      <td>available</td>\n",
       "      <td>...</td>\n",
       "      <td>2024-07-12T03:40:20.513429</td>\n",
       "      <td>1</td>\n",
       "      <td>Group Stage</td>\n",
       "      <td>Olympiastadion Berlin</td>\n",
       "      <td>Michael Oliver</td>\n",
       "      <td>Luis de la Fuente Castillo</td>\n",
       "      <td>Zlatko Dalić</td>\n",
       "      <td>1.1.0</td>\n",
       "      <td>2</td>\n",
       "      <td>2</td>\n",
       "    </tr>\n",
       "    <tr>\n",
       "      <th>49</th>\n",
       "      <td>3930159</td>\n",
       "      <td>2024-06-15</td>\n",
       "      <td>16:00:00.000</td>\n",
       "      <td>Europe - UEFA Euro</td>\n",
       "      <td>2024</td>\n",
       "      <td>Hungary</td>\n",
       "      <td>Switzerland</td>\n",
       "      <td>1</td>\n",
       "      <td>3</td>\n",
       "      <td>available</td>\n",
       "      <td>...</td>\n",
       "      <td>2024-07-10T13:35:35.263551</td>\n",
       "      <td>1</td>\n",
       "      <td>Group Stage</td>\n",
       "      <td>RheinEnergieStadion</td>\n",
       "      <td>Slavko Vinčić</td>\n",
       "      <td>Marco Rossi</td>\n",
       "      <td>Murat Yakin</td>\n",
       "      <td>1.1.0</td>\n",
       "      <td>2</td>\n",
       "      <td>2</td>\n",
       "    </tr>\n",
       "    <tr>\n",
       "      <th>50</th>\n",
       "      <td>3930158</td>\n",
       "      <td>2024-06-14</td>\n",
       "      <td>22:00:00.000</td>\n",
       "      <td>Europe - UEFA Euro</td>\n",
       "      <td>2024</td>\n",
       "      <td>Germany</td>\n",
       "      <td>Scotland</td>\n",
       "      <td>5</td>\n",
       "      <td>1</td>\n",
       "      <td>available</td>\n",
       "      <td>...</td>\n",
       "      <td>2024-07-04T08:13:19.028344</td>\n",
       "      <td>1</td>\n",
       "      <td>Group Stage</td>\n",
       "      <td>Allianz Arena</td>\n",
       "      <td>Clément Turpin</td>\n",
       "      <td>Julian Nagelsmann</td>\n",
       "      <td>Steve Clarke</td>\n",
       "      <td>1.1.0</td>\n",
       "      <td>2</td>\n",
       "      <td>2</td>\n",
       "    </tr>\n",
       "  </tbody>\n",
       "</table>\n",
       "<p>5 rows × 22 columns</p>\n",
       "</div>"
      ],
      "text/plain": [
       "    match_id  match_date      kick_off         competition season home_team  \\\n",
       "46   3930163  2024-06-16  22:00:00.000  Europe - UEFA Euro   2024    Serbia   \n",
       "47   3930162  2024-06-16  19:00:00.000  Europe - UEFA Euro   2024  Slovenia   \n",
       "48   3930160  2024-06-15  19:00:00.000  Europe - UEFA Euro   2024     Spain   \n",
       "49   3930159  2024-06-15  16:00:00.000  Europe - UEFA Euro   2024   Hungary   \n",
       "50   3930158  2024-06-14  22:00:00.000  Europe - UEFA Euro   2024   Germany   \n",
       "\n",
       "      away_team  home_score  away_score match_status  ...  \\\n",
       "46      England           0           1    available  ...   \n",
       "47      Denmark           1           1    available  ...   \n",
       "48      Croatia           3           0    available  ...   \n",
       "49  Switzerland           1           3    available  ...   \n",
       "50     Scotland           5           1    available  ...   \n",
       "\n",
       "              last_updated_360 match_week competition_stage  \\\n",
       "46  2024-07-14T07:10:41.937955          1       Group Stage   \n",
       "47  2024-07-10T16:09:27.468163          1       Group Stage   \n",
       "48  2024-07-12T03:40:20.513429          1       Group Stage   \n",
       "49  2024-07-10T13:35:35.263551          1       Group Stage   \n",
       "50  2024-07-04T08:13:19.028344          1       Group Stage   \n",
       "\n",
       "                  stadium         referee               home_managers  \\\n",
       "46          VELTINS-Arena  Daniele Orsato            Dragan Stojković   \n",
       "47               MHPArena  Sandro Schärer                  Matjaž Kek   \n",
       "48  Olympiastadion Berlin  Michael Oliver  Luis de la Fuente Castillo   \n",
       "49    RheinEnergieStadion   Slavko Vinčić                 Marco Rossi   \n",
       "50          Allianz Arena  Clément Turpin           Julian Nagelsmann   \n",
       "\n",
       "       away_managers data_version shot_fidelity_version xy_fidelity_version  \n",
       "46  Gareth Southgate        1.1.0                     2                   2  \n",
       "47   Kasper Hjulmand        1.1.0                     2                   2  \n",
       "48      Zlatko Dalić        1.1.0                     2                   2  \n",
       "49       Murat Yakin        1.1.0                     2                   2  \n",
       "50      Steve Clarke        1.1.0                     2                   2  \n",
       "\n",
       "[5 rows x 22 columns]"
      ]
     },
     "execution_count": 28,
     "metadata": {},
     "output_type": "execute_result"
    }
   ],
   "source": [
    "euro = sb.matches(competition_id=55,season_id=282)\n",
    "euro.tail()"
   ]
  },
  {
   "cell_type": "markdown",
   "id": "0defdd08-638b-4866-9421-690625bbee38",
   "metadata": {},
   "source": [
    "### Match events"
   ]
  },
  {
   "cell_type": "code",
   "execution_count": 31,
   "id": "c9e14960-e6c8-4b79-a024-21d5995c3a41",
   "metadata": {},
   "outputs": [],
   "source": [
    "MATCH_ID = 3930158"
   ]
  },
  {
   "cell_type": "code",
   "execution_count": 33,
   "id": "845650d6-53d5-4729-87f1-06cb1c50d1fb",
   "metadata": {},
   "outputs": [],
   "source": [
    "df_event = sb.events(match_id=MATCH_ID)\n",
    "df_360 = pd.read_json(f'/Users/azib/Documents/open_source/euro2024/open-data/data/three-sixty/{MATCH_ID}.json')"
   ]
  },
  {
   "cell_type": "code",
   "execution_count": 34,
   "id": "869f45b0-3dc3-495f-bc10-418da5001724",
   "metadata": {},
   "outputs": [],
   "source": [
    "df = pd.merge(df_event,df_360,left_on='id',right_on='event_uuid',how='left')"
   ]
  },
  {
   "cell_type": "code",
   "execution_count": 35,
   "id": "6caab795-c18d-447f-9200-1c1c5235c3a0",
   "metadata": {},
   "outputs": [
    {
     "data": {
      "text/plain": [
       "Index(['50_50', 'ball_receipt_outcome', 'ball_recovery_recovery_failure',\n",
       "       'block_deflection', 'carry_end_location', 'clearance_aerial_won',\n",
       "       'clearance_body_part', 'clearance_head', 'clearance_left_foot',\n",
       "       'clearance_right_foot', 'counterpress', 'dribble_nutmeg',\n",
       "       'dribble_outcome', 'dribble_overrun', 'duel_outcome', 'duel_type',\n",
       "       'duration', 'foul_committed_advantage', 'foul_committed_card',\n",
       "       'foul_committed_penalty', 'foul_committed_type', 'foul_won_advantage',\n",
       "       'foul_won_defensive', 'foul_won_penalty', 'goalkeeper_body_part',\n",
       "       'goalkeeper_end_location', 'goalkeeper_outcome', 'goalkeeper_position',\n",
       "       'goalkeeper_technique', 'goalkeeper_type', 'id', 'index',\n",
       "       'interception_outcome', 'location', 'match_id', 'minute',\n",
       "       'miscontrol_aerial_won', 'off_camera', 'out', 'pass_aerial_won',\n",
       "       'pass_angle', 'pass_assisted_shot_id', 'pass_body_part', 'pass_cross',\n",
       "       'pass_cut_back', 'pass_deflected', 'pass_end_location',\n",
       "       'pass_goal_assist', 'pass_height', 'pass_inswinging', 'pass_length',\n",
       "       'pass_outcome', 'pass_outswinging', 'pass_recipient',\n",
       "       'pass_recipient_id', 'pass_shot_assist', 'pass_switch',\n",
       "       'pass_technique', 'pass_through_ball', 'pass_type', 'period',\n",
       "       'play_pattern', 'player', 'player_id', 'position', 'possession',\n",
       "       'possession_team', 'possession_team_id', 'related_events', 'second',\n",
       "       'shot_aerial_won', 'shot_body_part', 'shot_deflected',\n",
       "       'shot_end_location', 'shot_first_time', 'shot_freeze_frame',\n",
       "       'shot_key_pass_id', 'shot_outcome', 'shot_statsbomb_xg',\n",
       "       'shot_technique', 'shot_type', 'substitution_outcome',\n",
       "       'substitution_outcome_id', 'substitution_replacement',\n",
       "       'substitution_replacement_id', 'tactics', 'team', 'team_id',\n",
       "       'timestamp', 'type', 'under_pressure', 'event_uuid', 'visible_area',\n",
       "       'freeze_frame'],\n",
       "      dtype='object')"
      ]
     },
     "execution_count": 35,
     "metadata": {},
     "output_type": "execute_result"
    }
   ],
   "source": [
    "df.columns"
   ]
  },
  {
   "cell_type": "code",
   "execution_count": 50,
   "id": "be95b4a8-b457-4681-a802-b5d63964d81e",
   "metadata": {},
   "outputs": [
    {
     "data": {
      "text/plain": [
       "Index(['carry_end_location', 'clearance_body_part', 'clearance_left_foot',\n",
       "       'duration', 'goalkeeper_body_part', 'goalkeeper_end_location',\n",
       "       'goalkeeper_outcome', 'goalkeeper_position', 'goalkeeper_technique',\n",
       "       'goalkeeper_type', 'id', 'index', 'location', 'match_id', 'minute',\n",
       "       'off_camera', 'out', 'pass_angle', 'pass_body_part',\n",
       "       'pass_end_location', 'pass_height', 'pass_length', 'pass_outcome',\n",
       "       'pass_recipient', 'pass_recipient_id', 'pass_type', 'period',\n",
       "       'play_pattern', 'player', 'player_id', 'position', 'possession',\n",
       "       'possession_team', 'possession_team_id', 'related_events', 'second',\n",
       "       'team', 'team_id', 'timestamp', 'type', 'under_pressure', 'event_uuid',\n",
       "       'visible_area', 'freeze_frame'],\n",
       "      dtype='object')"
      ]
     },
     "execution_count": 50,
     "metadata": {},
     "output_type": "execute_result"
    }
   ],
   "source": [
    "gks = df[df.position == 'Goalkeeper']\n",
    "gks = gks.dropna(axis=1, how='all')\n",
    "gks.columns"
   ]
  },
  {
   "cell_type": "code",
   "execution_count": 18,
   "id": "54de7899-1dce-42e9-8253-52be2f3eb3f0",
   "metadata": {},
   "outputs": [
    {
     "data": {
      "text/html": [
       "<div>\n",
       "<style scoped>\n",
       "    .dataframe tbody tr th:only-of-type {\n",
       "        vertical-align: middle;\n",
       "    }\n",
       "\n",
       "    .dataframe tbody tr th {\n",
       "        vertical-align: top;\n",
       "    }\n",
       "\n",
       "    .dataframe thead th {\n",
       "        text-align: right;\n",
       "    }\n",
       "</style>\n",
       "<table border=\"1\" class=\"dataframe\">\n",
       "  <thead>\n",
       "    <tr style=\"text-align: right;\">\n",
       "      <th></th>\n",
       "      <th>50_50</th>\n",
       "      <th>ball_receipt_outcome</th>\n",
       "      <th>ball_recovery_recovery_failure</th>\n",
       "      <th>block_deflection</th>\n",
       "      <th>block_offensive</th>\n",
       "      <th>carry_end_location</th>\n",
       "      <th>clearance_aerial_won</th>\n",
       "      <th>clearance_body_part</th>\n",
       "      <th>clearance_head</th>\n",
       "      <th>clearance_left_foot</th>\n",
       "      <th>...</th>\n",
       "      <th>substitution_outcome</th>\n",
       "      <th>substitution_outcome_id</th>\n",
       "      <th>substitution_replacement</th>\n",
       "      <th>substitution_replacement_id</th>\n",
       "      <th>tactics</th>\n",
       "      <th>team</th>\n",
       "      <th>team_id</th>\n",
       "      <th>timestamp</th>\n",
       "      <th>type</th>\n",
       "      <th>under_pressure</th>\n",
       "    </tr>\n",
       "  </thead>\n",
       "  <tbody>\n",
       "    <tr>\n",
       "      <th>0</th>\n",
       "      <td>NaN</td>\n",
       "      <td>NaN</td>\n",
       "      <td>NaN</td>\n",
       "      <td>NaN</td>\n",
       "      <td>NaN</td>\n",
       "      <td>NaN</td>\n",
       "      <td>NaN</td>\n",
       "      <td>NaN</td>\n",
       "      <td>NaN</td>\n",
       "      <td>NaN</td>\n",
       "      <td>...</td>\n",
       "      <td>NaN</td>\n",
       "      <td>NaN</td>\n",
       "      <td>NaN</td>\n",
       "      <td>NaN</td>\n",
       "      <td>NaN</td>\n",
       "      <td>Brazil</td>\n",
       "      <td>781</td>\n",
       "      <td>00:00:01.122</td>\n",
       "      <td>Pass</td>\n",
       "      <td>NaN</td>\n",
       "    </tr>\n",
       "  </tbody>\n",
       "</table>\n",
       "<p>1 rows × 92 columns</p>\n",
       "</div>"
      ],
      "text/plain": [
       "  50_50 ball_receipt_outcome ball_recovery_recovery_failure block_deflection  \\\n",
       "0   NaN                  NaN                            NaN              NaN   \n",
       "\n",
       "  block_offensive carry_end_location clearance_aerial_won clearance_body_part  \\\n",
       "0             NaN                NaN                  NaN                 NaN   \n",
       "\n",
       "  clearance_head clearance_left_foot  ... substitution_outcome  \\\n",
       "0            NaN                 NaN  ...                  NaN   \n",
       "\n",
       "  substitution_outcome_id substitution_replacement  \\\n",
       "0                     NaN                      NaN   \n",
       "\n",
       "  substitution_replacement_id tactics    team team_id     timestamp  type  \\\n",
       "0                         NaN     NaN  Brazil     781  00:00:01.122  Pass   \n",
       "\n",
       "  under_pressure  \n",
       "0            NaN  \n",
       "\n",
       "[1 rows x 92 columns]"
      ]
     },
     "execution_count": 18,
     "metadata": {},
     "output_type": "execute_result"
    }
   ],
   "source": [
    "KH29 = df_event[(df_event.player == 'Endrick Felipe Moreira de Sousa') & (df_event.type == 'Pass') & (df_event.pass_outcome != 'Incomplete') & (df_event.pass_outcome != 'Out')].reset_index(drop=True)\n",
    "KH29"
   ]
  },
  {
   "cell_type": "code",
   "execution_count": 19,
   "id": "b4e35cb6-2c14-453f-8550-3e21490315be",
   "metadata": {},
   "outputs": [],
   "source": [
    "KH29[['x_start','y_start']] = pd.DataFrame(KH29.location.tolist(),index=KH29.index)\n",
    "KH29[['x_end','y_end']] = pd.DataFrame(KH29.pass_end_location.tolist(),index=KH29.index)\n"
   ]
  },
  {
   "cell_type": "code",
   "execution_count": 23,
   "id": "148a2279-6d24-4287-b845-b2cacc9a8f81",
   "metadata": {},
   "outputs": [
    {
     "data": {
      "text/plain": [
       "<matplotlib.collections.LineCollection at 0x144d9d1f0>"
      ]
     },
     "execution_count": 23,
     "metadata": {},
     "output_type": "execute_result"
    },
    {
     "data": {
      "image/png": "[encoded data removed]",
      "text/plain": [
       "<Figure size 800x500 with 1 Axes>"
      ]
     },
     "metadata": {},
     "output_type": "display_data"
    }
   ],
   "source": [
    "p = Pitch(pitch_type='statsbomb')\n",
    "fig, ax = p.draw(figsize=(8,5))\n",
    "\n",
    "p.scatter(x=KH29.x_start,y=KH29.y_start,ax=ax)\n",
    "p.lines(xstart=KH29.x_start,ystart=KH29.y_start,xend=KH29.x_end,yend=KH29.y_end,ax=ax,comet=True)\n",
    "\n",
    "# for x in KH29.iloc[0]['freeze_frame']:\n",
    "#     if x['teammate']:\n",
    "#         color='green'\n",
    "#     else:\n",
    "#         color='yellow'\n",
    "#     p.scatter(x=x['location'][0],y=x['location'][1],ax=ax,c=color,s=100)"
   ]
  },
  {
   "cell_type": "markdown",
   "id": "4177af5c-6dba-4872-b065-d50f8a95a707",
   "metadata": {},
   "source": [
    "All of Endrick's successfull passes vs Uruguay"
   ]
  }
 ],
 "metadata": {
  "kernelspec": {
   "display_name": "football-analytics",
   "language": "python",
   "name": "football-analytics"
  },
  "language_info": {
   "codemirror_mode": {
    "name": "ipython",
    "version": 3
   },
   "file_extension": ".py",
   "mimetype": "text/x-python",
   "name": "python",
   "nbconvert_exporter": "python",
   "pygments_lexer": "ipython3",
   "version": "3.11.4"
  }
 },
 "nbformat": 4,
 "nbformat_minor": 5
}
