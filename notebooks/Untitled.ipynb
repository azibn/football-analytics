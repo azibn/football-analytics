{
 "cells": [
  {
   "cell_type": "code",
   "execution_count": 3,
   "id": "fefbe592-3047-4418-96cb-3365be84635e",
   "metadata": {},
   "outputs": [],
   "source": [
    "import pandas as pd\n",
    "from mplsoccer.pitch import Pitch\n",
    "import os\n",
    "import glob\n",
    "import tqdm"
   ]
  },
  {
   "cell_type": "code",
   "execution_count": 4,
   "id": "a054a444-9380-45b3-bc4c-97f9a53e38fd",
   "metadata": {},
   "outputs": [],
   "source": [
    "threesixty = glob.glob('open-data/data/three-sixty/*')"
   ]
  },
  {
   "cell_type": "code",
   "execution_count": 5,
   "id": "88d1dc4b-4916-4c1d-a92c-5517f984e522",
   "metadata": {},
   "outputs": [
    {
     "name": "stderr",
     "output_type": "stream",
     "text": [
      "100%|███████████████████████████████████████████████████████████| 295/295 [01:57<00:00,  2.52it/s]\n"
     ]
    }
   ],
   "source": [
    "dfs = []\n",
    "\n",
    "for i in tqdm.tqdm(threesixty):\n",
    "    try:\n",
    "        df = pd.read_json(i)\n",
    "        dfs.append(df)\n",
    "    except ValueError:\n",
    "        pass\n",
    "\n",
    "main = pd.concat(dfs,ignore_index=True)"
   ]
  },
  {
   "cell_type": "code",
   "execution_count": 6,
   "id": "1e2538d7-59d1-403a-8fc9-e5fb0a5e38e4",
   "metadata": {},
   "outputs": [
    {
     "data": {
      "text/html": [
       "<div>\n",
       "<style scoped>\n",
       "    .dataframe tbody tr th:only-of-type {\n",
       "        vertical-align: middle;\n",
       "    }\n",
       "\n",
       "    .dataframe tbody tr th {\n",
       "        vertical-align: top;\n",
       "    }\n",
       "\n",
       "    .dataframe thead th {\n",
       "        text-align: right;\n",
       "    }\n",
       "</style>\n",
       "<table border=\"1\" class=\"dataframe\">\n",
       "  <thead>\n",
       "    <tr style=\"text-align: right;\">\n",
       "      <th></th>\n",
       "      <th>event_uuid</th>\n",
       "      <th>visible_area</th>\n",
       "      <th>freeze_frame</th>\n",
       "    </tr>\n",
       "  </thead>\n",
       "  <tbody>\n",
       "    <tr>\n",
       "      <th>0</th>\n",
       "      <td>75d6cc25-b03b-44e0-9c50-99a7e3c47315</td>\n",
       "      <td>[29.574167858721, 80.0, 47.7992071074168, 0.0,...</td>\n",
       "      <td>[{'teammate': True, 'actor': False, 'keeper': ...</td>\n",
       "    </tr>\n",
       "    <tr>\n",
       "      <th>1</th>\n",
       "      <td>ec457cc8-050c-4884-abbc-1e85bc3c83dc</td>\n",
       "      <td>[29.5261908068648, 80.0, 47.3846276547738, 0.0...</td>\n",
       "      <td>[{'teammate': True, 'actor': False, 'keeper': ...</td>\n",
       "    </tr>\n",
       "    <tr>\n",
       "      <th>2</th>\n",
       "      <td>246b93aa-3831-4b07-a51e-b6ba578e60d5</td>\n",
       "      <td>[27.6350829489137, 80.0, 45.4935197968227, 0.0...</td>\n",
       "      <td>[{'teammate': True, 'actor': False, 'keeper': ...</td>\n",
       "    </tr>\n",
       "    <tr>\n",
       "      <th>3</th>\n",
       "      <td>eda20fee-cab0-4094-aba3-ae286ef64004</td>\n",
       "      <td>[13.8331181325244, 80.0, 40.2628933325614, 6.1...</td>\n",
       "      <td>[{'teammate': True, 'actor': True, 'keeper': F...</td>\n",
       "    </tr>\n",
       "    <tr>\n",
       "      <th>4</th>\n",
       "      <td>e8a3f021-76da-443b-9a1d-c5857c486493</td>\n",
       "      <td>[13.8331181325244, 80.0, 40.2628933325614, 6.1...</td>\n",
       "      <td>[{'teammate': True, 'actor': True, 'keeper': F...</td>\n",
       "    </tr>\n",
       "  </tbody>\n",
       "</table>\n",
       "</div>"
      ],
      "text/plain": [
       "                             event_uuid  \\\n",
       "0  75d6cc25-b03b-44e0-9c50-99a7e3c47315   \n",
       "1  ec457cc8-050c-4884-abbc-1e85bc3c83dc   \n",
       "2  246b93aa-3831-4b07-a51e-b6ba578e60d5   \n",
       "3  eda20fee-cab0-4094-aba3-ae286ef64004   \n",
       "4  e8a3f021-76da-443b-9a1d-c5857c486493   \n",
       "\n",
       "                                        visible_area  \\\n",
       "0  [29.574167858721, 80.0, 47.7992071074168, 0.0,...   \n",
       "1  [29.5261908068648, 80.0, 47.3846276547738, 0.0...   \n",
       "2  [27.6350829489137, 80.0, 45.4935197968227, 0.0...   \n",
       "3  [13.8331181325244, 80.0, 40.2628933325614, 6.1...   \n",
       "4  [13.8331181325244, 80.0, 40.2628933325614, 6.1...   \n",
       "\n",
       "                                        freeze_frame  \n",
       "0  [{'teammate': True, 'actor': False, 'keeper': ...  \n",
       "1  [{'teammate': True, 'actor': False, 'keeper': ...  \n",
       "2  [{'teammate': True, 'actor': False, 'keeper': ...  \n",
       "3  [{'teammate': True, 'actor': True, 'keeper': F...  \n",
       "4  [{'teammate': True, 'actor': True, 'keeper': F...  "
      ]
     },
     "execution_count": 6,
     "metadata": {},
     "output_type": "execute_result"
    }
   ],
   "source": [
    "main.head()"
   ]
  },
  {
   "cell_type": "code",
   "execution_count": null,
   "id": "2ebd522a-ee08-4374-ae71-af482a022419",
   "metadata": {},
   "outputs": [],
   "source": []
  }
 ],
 "metadata": {
  "kernelspec": {
   "display_name": "football-analytics",
   "language": "python",
   "name": "football-analytics"
  },
  "language_info": {
   "codemirror_mode": {
    "name": "ipython",
    "version": 3
   },
   "file_extension": ".py",
   "mimetype": "text/x-python",
   "name": "python",
   "nbconvert_exporter": "python",
   "pygments_lexer": "ipython3",
   "version": "3.11.4"
  }
 },
 "nbformat": 4,
 "nbformat_minor": 5
}
